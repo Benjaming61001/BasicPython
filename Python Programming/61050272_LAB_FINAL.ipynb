{
  "nbformat": 4,
  "nbformat_minor": 0,
  "metadata": {
    "colab": {
      "name": "61050272_LAB_FINAL.ipynb",
      "provenance": [],
      "collapsed_sections": []
    },
    "kernelspec": {
      "name": "python3",
      "display_name": "Python 3"
    },
    "language_info": {
      "name": "python"
    }
  },
  "cells": [
    {
      "cell_type": "code",
      "metadata": {
        "id": "bjkQyadbSMAq"
      },
      "source": [
        "import numpy as np\n",
        "import pandas as pd\n",
        "import sklearn\n",
        "from sklearn.linear_model import LinearRegression\n",
        "from sklearn.tree import DecisionTreeRegressor, DecisionTreeClassifier\n",
        "from sklearn.naive_bayes import GaussianNB\n",
        "from sklearn.neighbors import KNeighborsRegressor, KNeighborsClassifier\n",
        "from sklearn.ensemble import RandomForestClassifier\n",
        "from sklearn.cluster import AgglomerativeClustering, KMeans, DBSCAN\n",
        "from matplotlib import pyplot as plt"
      ],
      "execution_count": 515,
      "outputs": []
    },
    {
      "cell_type": "code",
      "metadata": {
        "colab": {
          "base_uri": "https://localhost:8080/"
        },
        "id": "2hi0P7r4Uudm",
        "outputId": "9e1629a6-29ed-41a7-ff98-48604c5766e7"
      },
      "source": [
        "#1\n",
        "name = input()\n",
        "id = input()\n",
        "sum = 0\n",
        "\n",
        "for i in id:\n",
        "  sum += int(i)\n",
        "\n",
        "print(\"Name       : \", name)\n",
        "print(\"Student ID : \", id)\n",
        "print(\"Sum        : \", sum)\n",
        "print(\"Sum%5      : \", sum%5)"
      ],
      "execution_count": 516,
      "outputs": [
        {
          "output_type": "stream",
          "text": [
            "Pavin Butprom\n",
            "61050272\n",
            "Name       :  Pavin Butprom\n",
            "Student ID :  61050272\n",
            "Sum        :  23\n",
            "Sum%5      :  3\n"
          ],
          "name": "stdout"
        }
      ]
    },
    {
      "cell_type": "code",
      "metadata": {
        "colab": {
          "base_uri": "https://localhost:8080/"
        },
        "id": "TV4b32PKd7Mk",
        "outputId": "9d9914c4-9dd4-4256-e8e9-d7eeda470a93"
      },
      "source": [
        "#2\n",
        "arr = np.random.rand(sum,2)\n",
        "arr *= 100\n",
        "arr //= 1\n",
        "arr"
      ],
      "execution_count": 517,
      "outputs": [
        {
          "output_type": "execute_result",
          "data": {
            "text/plain": [
              "array([[35., 51.],\n",
              "       [ 5.,  8.],\n",
              "       [89., 12.],\n",
              "       [62., 14.],\n",
              "       [11., 86.],\n",
              "       [28., 36.],\n",
              "       [68., 57.],\n",
              "       [33., 57.],\n",
              "       [93., 53.],\n",
              "       [ 1., 51.],\n",
              "       [84., 15.],\n",
              "       [97., 83.],\n",
              "       [10., 82.],\n",
              "       [13., 58.],\n",
              "       [58.,  3.],\n",
              "       [13., 29.],\n",
              "       [44., 94.],\n",
              "       [60., 14.],\n",
              "       [58., 57.],\n",
              "       [59., 16.],\n",
              "       [93., 19.],\n",
              "       [68., 35.],\n",
              "       [ 6., 90.]])"
            ]
          },
          "metadata": {
            "tags": []
          },
          "execution_count": 517
        }
      ]
    },
    {
      "cell_type": "code",
      "metadata": {
        "id": "Q4QOwqjtl27i"
      },
      "source": [
        "#3\n",
        "label = [\"x\", \"y\"]\n",
        "df_1 = pd.DataFrame(arr, columns = label)\n",
        "df_1.to_csv(\"61050272.csv\", index = False)"
      ],
      "execution_count": 518,
      "outputs": []
    },
    {
      "cell_type": "code",
      "metadata": {
        "colab": {
          "base_uri": "https://localhost:8080/",
          "height": 359
        },
        "id": "3nt_whi4oDBL",
        "outputId": "b70a6356-bf76-4179-9cb6-851a819c7d25"
      },
      "source": [
        "#4\n",
        "if sum % 2 == 0:\n",
        "  df_2 = pd.read_excel(\"./Classification_Data.xlsx\", \"Sport\")\n",
        "  CD = \"S\"\n",
        "else:\n",
        "  df_2 = pd.read_excel(\"./Classification_Data.xlsx\", \"Fever\")\n",
        "  CD = \"F\"\n",
        "df_2"
      ],
      "execution_count": 519,
      "outputs": [
        {
          "output_type": "execute_result",
          "data": {
            "text/html": [
              "<div>\n",
              "<style scoped>\n",
              "    .dataframe tbody tr th:only-of-type {\n",
              "        vertical-align: middle;\n",
              "    }\n",
              "\n",
              "    .dataframe tbody tr th {\n",
              "        vertical-align: top;\n",
              "    }\n",
              "\n",
              "    .dataframe thead th {\n",
              "        text-align: right;\n",
              "    }\n",
              "</style>\n",
              "<table border=\"1\" class=\"dataframe\">\n",
              "  <thead>\n",
              "    <tr style=\"text-align: right;\">\n",
              "      <th></th>\n",
              "      <th>Body Temperature (C)</th>\n",
              "      <th>Cough</th>\n",
              "      <th>Runny Nose</th>\n",
              "      <th>Disease</th>\n",
              "    </tr>\n",
              "  </thead>\n",
              "  <tbody>\n",
              "    <tr>\n",
              "      <th>0</th>\n",
              "      <td>36.5</td>\n",
              "      <td>No</td>\n",
              "      <td>No</td>\n",
              "      <td>Normal</td>\n",
              "    </tr>\n",
              "    <tr>\n",
              "      <th>1</th>\n",
              "      <td>37.0</td>\n",
              "      <td>No</td>\n",
              "      <td>No</td>\n",
              "      <td>Normal</td>\n",
              "    </tr>\n",
              "    <tr>\n",
              "      <th>2</th>\n",
              "      <td>36.5</td>\n",
              "      <td>Yes</td>\n",
              "      <td>No</td>\n",
              "      <td>Normal</td>\n",
              "    </tr>\n",
              "    <tr>\n",
              "      <th>3</th>\n",
              "      <td>39.0</td>\n",
              "      <td>No</td>\n",
              "      <td>No</td>\n",
              "      <td>Dengue Fever</td>\n",
              "    </tr>\n",
              "    <tr>\n",
              "      <th>4</th>\n",
              "      <td>38.0</td>\n",
              "      <td>Yes</td>\n",
              "      <td>Yes</td>\n",
              "      <td>Cold</td>\n",
              "    </tr>\n",
              "    <tr>\n",
              "      <th>5</th>\n",
              "      <td>37.0</td>\n",
              "      <td>No</td>\n",
              "      <td>Yes</td>\n",
              "      <td>Cold</td>\n",
              "    </tr>\n",
              "    <tr>\n",
              "      <th>6</th>\n",
              "      <td>36.5</td>\n",
              "      <td>Yes</td>\n",
              "      <td>Yes</td>\n",
              "      <td>Cold</td>\n",
              "    </tr>\n",
              "    <tr>\n",
              "      <th>7</th>\n",
              "      <td>39.0</td>\n",
              "      <td>Yes</td>\n",
              "      <td>No</td>\n",
              "      <td>Dengue Fever</td>\n",
              "    </tr>\n",
              "    <tr>\n",
              "      <th>8</th>\n",
              "      <td>38.0</td>\n",
              "      <td>No</td>\n",
              "      <td>No</td>\n",
              "      <td>Dengue Fever</td>\n",
              "    </tr>\n",
              "    <tr>\n",
              "      <th>9</th>\n",
              "      <td>37.5</td>\n",
              "      <td>No</td>\n",
              "      <td>No</td>\n",
              "      <td>Cold</td>\n",
              "    </tr>\n",
              "  </tbody>\n",
              "</table>\n",
              "</div>"
            ],
            "text/plain": [
              "   Body Temperature (C) Cough Runny Nose       Disease\n",
              "0                  36.5    No         No        Normal\n",
              "1                  37.0    No         No        Normal\n",
              "2                  36.5   Yes         No        Normal\n",
              "3                  39.0    No         No  Dengue Fever\n",
              "4                  38.0   Yes        Yes          Cold\n",
              "5                  37.0    No        Yes          Cold\n",
              "6                  36.5   Yes        Yes          Cold\n",
              "7                  39.0   Yes         No  Dengue Fever\n",
              "8                  38.0    No         No  Dengue Fever\n",
              "9                  37.5    No         No          Cold"
            ]
          },
          "metadata": {
            "tags": []
          },
          "execution_count": 519
        }
      ]
    },
    {
      "cell_type": "code",
      "metadata": {
        "colab": {
          "base_uri": "https://localhost:8080/",
          "height": 282
        },
        "id": "p76ih-Osq0nw",
        "outputId": "e189a81f-50c7-45ea-c5ca-51926800294f"
      },
      "source": [
        "#5\n",
        "df_3 = pd.read_csv(\"./61050272.csv\")\n",
        "df_3 = df_3.to_numpy()\n",
        "df_x = df_3[ : ,  :1]\n",
        "df_y = df_3[ : , 1: ]\n",
        "plt.scatter(df_x, df_y)\n",
        "plt.show"
      ],
      "execution_count": 520,
      "outputs": [
        {
          "output_type": "execute_result",
          "data": {
            "text/plain": [
              "<function matplotlib.pyplot.show>"
            ]
          },
          "metadata": {
            "tags": []
          },
          "execution_count": 520
        },
        {
          "output_type": "display_data",
          "data": {
            "image/png": "[encoded data removed]",
            "text/plain": [
              "<Figure size 432x288 with 1 Axes>"
            ]
          },
          "metadata": {
            "tags": [],
            "needs_background": "light"
          }
        }
      ]
    },
    {
      "cell_type": "code",
      "metadata": {
        "colab": {
          "base_uri": "https://localhost:8080/",
          "height": 1000
        },
        "id": "D3znFacZxKml",
        "outputId": "389946fd-320f-48c8-e208-65f95a8a69a3"
      },
      "source": [
        "#6\n",
        "sum2 = sum%5\n",
        "if sum2 % 2 == 0:\n",
        "  #Pie Chart\n",
        "  data1 = [3, 2, 1, 2, 2]\n",
        "  label1 = [\"36.5\", \"37\", \"37.5\", \"38\", \"39\"] \n",
        "  data2 = [4, 6]\n",
        "  label2 = [\"Yes\", \"No\"]\n",
        "  data3 = [3, 7]\n",
        "  label3 = [\"Yes\", \"No\"]\n",
        "  data4 = [3, 4, 3]\n",
        "  label4 = [\"Normal\", \"Cold\", \"Dengue Fever\"]\n",
        "\n",
        "  plt.figure(0)\n",
        "  plt.title(\"Body Temperature (C)\")\n",
        "  plt.pie(data1, labels = label1, autopct = \"%.1f%%\")\n",
        "\n",
        "  plt.figure(1)\n",
        "  plt.title(\"Cough\")\n",
        "  plt.pie(data2, labels = label2, autopct = \"%.1f%%\")\n",
        "\n",
        "  plt.figure(2)\n",
        "  plt.title(\"Runny Nose\")\n",
        "  plt.pie(data3, labels = label3, autopct = \"%.1f%%\")\n",
        "\n",
        "  plt.figure(3)\n",
        "  plt.title(\"Disease\")\n",
        "  plt.pie(data4, labels = label4, autopct = \"%.1f%%\")\n",
        "\n",
        "  plt.show\n",
        "  \n",
        "else:\n",
        "  #Bar Chart\n",
        "  data1 = [\"Sunny\", \"Windy\", \"Rainny\"]\n",
        "  height1 = [3, 4, 3]\n",
        "  data2 = [\"Less than 5\", \"5 to 10\", \"More than 10\", \"More than 11\"]\n",
        "  height2 = [4, 3, 2, 1]\n",
        "  data3 = [\"Outdoor\", \"Indoor\"]\n",
        "  height3 = [6, 4]\n",
        "  data4 = [\"Football\", \"Basketball\", \"Batminton\"]\n",
        "  height4 = [4, 2, 4]\n",
        "\n",
        "  plt.figure(0)\n",
        "  plt.title(\"Weather\")\n",
        "  plt.bar(data1,height1, color='r')\n",
        "\n",
        "  plt.figure(1)\n",
        "  plt.title(\"Player\")\n",
        "  plt.bar(data2, height2, color='g')\n",
        "\n",
        "  plt.figure(2)\n",
        "  plt.title(\"Stadium\")\n",
        "  plt.bar(data3, height3, color='m')\n",
        "\n",
        "  plt.figure(3)\n",
        "  plt.title(\"Sport\")\n",
        "  plt.bar(data4, height4)\n",
        "\n",
        "  plt.show\n"
      ],
      "execution_count": 521,
      "outputs": [
        {
          "output_type": "display_data",
          "data": {
            "image/png": "[encoded data removed]",
            "text/plain": [
              "<Figure size 432x288 with 1 Axes>"
            ]
          },
          "metadata": {
            "tags": [],
            "needs_background": "light"
          }
        },
        {
          "output_type": "display_data",
          "data": {
            "image/png": "[encoded data removed]",
            "text/plain": [
              "<Figure size 432x288 with 1 Axes>"
            ]
          },
          "metadata": {
            "tags": [],
            "needs_background": "light"
          }
        },
        {
          "output_type": "display_data",
          "data": {
            "image/png": "[encoded data removed]",
            "text/plain": [
              "<Figure size 432x288 with 1 Axes>"
            ]
          },
          "metadata": {
            "tags": [],
            "needs_background": "light"
          }
        },
        {
          "output_type": "display_data",
          "data": {
            "image/png": "[encoded data removed]",
            "text/plain": [
              "<Figure size 432x288 with 1 Axes>"
            ]
          },
          "metadata": {
            "tags": [],
            "needs_background": "light"
          }
        }
      ]
    },
    {
      "cell_type": "code",
      "metadata": {
        "colab": {
          "base_uri": "https://localhost:8080/",
          "height": 282
        },
        "id": "WamaS4IF17BO",
        "outputId": "e997ddbe-49bf-46ac-9874-ffcd2749f6b1"
      },
      "source": [
        "#7\n",
        "plt.plot(df_x, df_y, color = 'r', marker = \"o\")\n",
        "plt.show"
      ],
      "execution_count": 522,
      "outputs": [
        {
          "output_type": "execute_result",
          "data": {
            "text/plain": [
              "<function matplotlib.pyplot.show>"
            ]
          },
          "metadata": {
            "tags": []
          },
          "execution_count": 522
        },
        {
          "output_type": "display_data",
          "data": {
            "image/png": "[encoded data removed]",
            "text/plain": [
              "<Figure size 432x288 with 1 Axes>"
            ]
          },
          "metadata": {
            "tags": [],
            "needs_background": "light"
          }
        }
      ]
    },
    {
      "cell_type": "code",
      "metadata": {
        "colab": {
          "base_uri": "https://localhost:8080/"
        },
        "id": "0YQwFM6WOQ6n",
        "outputId": "280ef106-caf5-48d0-8027-edf8f27fe94d"
      },
      "source": [
        "#8\n",
        "sum2 = sum%5\n",
        "x = df_x #Train\n",
        "y = df_y #Validation\n",
        "a = 0\n",
        "for i in id[ :4]:\n",
        "  a += int(i)\n",
        "\n",
        "b = 0\n",
        "for i in id[5: ]:\n",
        "  b += int(i)\n",
        "\n",
        "if sum2 == 0 or sum2 == 1:\n",
        "  #Linear Regression\n",
        "  lr = LinearRegression()\n",
        "  lr.fit(x, y)\n",
        "  lr.predict([[a]])\n",
        "  lr.predict([[b]])\n",
        "  print(\"R2 = \", lr.score(x, y))\n",
        "\n",
        "elif sum2 == 2 or sum2 == 3:\n",
        "  #Decision Tree Regression\n",
        "  dtr = DecisionTreeRegressor(criterion = 'mae')\n",
        "  dtr.fit(x, y)\n",
        "  dtr.predict([[a]])\n",
        "  dtr.predict([[b]])\n",
        "  print(\"R2 = \", dtr.score(x, y))\n",
        "\n",
        "else:\n",
        "  #KNNRegression (K = 2)\n",
        "  knr = KNeighborsRegressor(n_neighbors = 2)\n",
        "  knr.fit(x, y)\n",
        "  knr.predict([[a]])\n",
        "  knr.predict([[b]])\n",
        "  print(\"R2 = \", knr.score(x, y))"
      ],
      "execution_count": 523,
      "outputs": [
        {
          "output_type": "stream",
          "text": [
            "R2 =  0.8552711967167242\n"
          ],
          "name": "stdout"
        }
      ]
    },
    {
      "cell_type": "code",
      "metadata": {
        "colab": {
          "base_uri": "https://localhost:8080/"
        },
        "id": "CHdp4On5ZoSe",
        "outputId": "8d3cc3c7-5047-4a7f-d213-5656d0087007"
      },
      "source": [
        "#9\n",
        "df_4 = df_2\n",
        "if CD == \"S\":\n",
        "  #Sunny = 0, Windy = 1, Rainny = 2\n",
        "  rename_dict={\"Sunny\" : 0, \"Windy\" : 1, \"Rainny\" : 2}\n",
        "  df_4['Weather'].replace(rename_dict, inplace=True)\n",
        "  #Less than 5 = 0, 5 to 10 = 1, More than 10 = 2, More than 11 = 3\n",
        "  rename_dict={\"Less than 5\" : 0, \"5 to 10\" : 1, \"More than 10\" : 2, \"More than 11\" : 3}\n",
        "  df_4['Player'].replace(rename_dict, inplace=True)\n",
        "  #Outdoor = 0, Indoor = 1\n",
        "  rename_dict={\"Outdoor\" : 0, \"Indoor\" : 1}\n",
        "  df_4['Stadium'].replace(rename_dict, inplace=True)\n",
        "  #Football = 0, Bassketball = 1, Batminton = 2\n",
        "  rename_dict={\"Football\" : 0, \"Basketball\" : 1, \"Batminton\" : 2}\n",
        "  df_4['Sport'].replace(rename_dict, inplace=True)\n",
        "  prob = [0, 1, 1]\n",
        "  \n",
        "else:\n",
        "  #Replace Temperature with numbers from 0-4 in Body Temperature (C) columbs\n",
        "  rename_dict={36.5 : 0, 37.0 : 1, 37.5 : 2, 38.0 : 3, 39.0 : 4}\n",
        "  df_4['Body Temperature (C)'].replace(rename_dict, inplace=True)\n",
        "  #Yes = 1, No = 0\n",
        "  rename_dict={\"Yes\" : 1, \"No\" : 0}\n",
        "  df_4['Cough'].replace(rename_dict, inplace=True)\n",
        "  df_4['Runny Nose'].replace(rename_dict, inplace=True)\n",
        "  #Normal = 0, Cold = 1, Dengue Fever = 2\n",
        "  rename_dict={\"Normal\" : 0, \"Cold\" : 1, \"Dengue Fever\" : 2}\n",
        "  df_4['Disease'].replace(rename_dict, inplace=True)\n",
        "  prob = [1, 1, 0]\n",
        "\n",
        "df_4.to_numpy()\n",
        "x = df_4.iloc[ : , :3]\n",
        "y = df_4.iloc[ : ,3: ]\n",
        "\n",
        "sum2 = sum%5\n",
        "if sum2 == 0:\n",
        "  #Decision Tree Classification\n",
        "  dtc = DecisionTreeClassifier(criterion = 'entropy')\n",
        "  dtc.fit(x, y)\n",
        "  dtc.predict([[2, 2, 2]])\n",
        "  print(dtc.predict_proba([prob]))\n",
        "\n",
        "elif sum2 == 1:\n",
        "  #Naïve Bayes Classification\n",
        "  gnb = GaussianNB()\n",
        "  gnb.fit(x, y)\n",
        "  gnb.predict([[2, 2, 2]])\n",
        "  print(gnb.predict_proba([prob]))\n",
        "\n",
        "elif sum2 == 2:\n",
        "  #KNN Classification (K = 2)\n",
        "  knc = KNeighborsClassifier(n_neighbors = 1)\n",
        "  knc.fit(x, y)\n",
        "  knc.predict([[2, 2, 2]])\n",
        "  print(knc.predict_proba([prob]))\n",
        "\n",
        "elif sum2 == 3:\n",
        "  #Random Forest Classification (criterion = “gini”)\n",
        "  rfc = RandomForestClassifier(criterion = 'gini')\n",
        "  rfc.fit(x, y)\n",
        "  rfc.predict([[2, 2, 2]])\n",
        "  print(rfc.predict_proba([prob]))\n",
        "\n",
        "elif sum2 == 4:\n",
        "  #Random Forest Classification (criterion = “entropy”)\n",
        "  rfc = RandomForestClassifier(criterion = 'entropy')\n",
        "  rfc.fit(x, y)\n",
        "  rfc.predict([[2, 2, 2]])\n",
        "  print(rfc.predict_proba([prob]))"
      ],
      "execution_count": 524,
      "outputs": [
        {
          "output_type": "stream",
          "text": [
            "[[0.7  0.17 0.13]]\n"
          ],
          "name": "stdout"
        },
        {
          "output_type": "stream",
          "text": [
            "/usr/local/lib/python3.7/dist-packages/ipykernel_launcher.py:60: DataConversionWarning: A column-vector y was passed when a 1d array was expected. Please change the shape of y to (n_samples,), for example using ravel().\n"
          ],
          "name": "stderr"
        }
      ]
    },
    {
      "cell_type": "code",
      "metadata": {
        "colab": {
          "base_uri": "https://localhost:8080/"
        },
        "id": "GTRooE2Qthbe",
        "outputId": "9b4c2e9a-f76a-43b0-a754-01139f75267d"
      },
      "source": [
        "#10\n",
        "x = df_3\n",
        "#a,b from 8\n",
        "if sum2 == 0:\n",
        "  #Hierarchical Clustering - Cluster = 4\n",
        "  hcc = AgglomerativeClustering(n_clusters=4)\n",
        "  hcc.fit(x)\n",
        "  hcc.labels_\n",
        "  hcc.fit_predict([[a, b]])\n",
        "\n",
        "elif sum2 == 1:\n",
        "  #Hierarchical Clustering - Cluster = 5\n",
        "  hcc = AgglomerativeClustering(n_clusters=5)\n",
        "  hcc.fit(x)\n",
        "  hcc.labels_\n",
        "  hcc.fit_predict([[a, b]])\n",
        "\n",
        "elif sum2 == 2:\n",
        "  #KMean Clustering - Cluster = 5\n",
        "  kmc = KMeans(n_clusters = 5)\n",
        "  kmc.fit(x)\n",
        "  kmc.labels_\n",
        "  print(kmc.predict([[a, b]]))\n",
        "\n",
        "elif sum2 == 3:\n",
        "  #KMean Clustering - Cluster = 4\n",
        "  kmc = KMeans(n_clusters = 4)\n",
        "  kmc.fit(x)\n",
        "  kmc.labels_\n",
        "  print(kmc.predict([[a, b]]))\n",
        "\n",
        "elif sum2 == 4:\n",
        "  #DBSCAN - eps = 10, min_sample = 2\n",
        "  dbc = DBSCAN(eps = 10, min_samples = 2)\n",
        "  dbc.fit(x)\n",
        "  dbc.labels_\n",
        "  print(dbc.fit_predict([[a, b]]))"
      ],
      "execution_count": 525,
      "outputs": [
        {
          "output_type": "stream",
          "text": [
            "[1]\n"
          ],
          "name": "stdout"
        }
      ]
    }
  ]
}