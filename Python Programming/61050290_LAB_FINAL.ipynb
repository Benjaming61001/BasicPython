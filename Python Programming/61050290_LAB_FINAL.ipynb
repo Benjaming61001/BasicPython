{
  "nbformat": 4,
  "nbformat_minor": 0,
  "metadata": {
    "colab": {
      "name": "61050290_LAB_FINAL.ipynb",
      "provenance": [],
      "collapsed_sections": []
    },
    "kernelspec": {
      "name": "python3",
      "display_name": "Python 3"
    },
    "language_info": {
      "name": "python"
    }
  },
  "cells": [
    {
      "cell_type": "code",
      "metadata": {
        "id": "bjkQyadbSMAq"
      },
      "source": [
        "import numpy as np\n",
        "import pandas as pd\n",
        "import sklearn\n",
        "from sklearn.linear_model import LinearRegression\n",
        "from sklearn.tree import DecisionTreeRegressor, DecisionTreeClassifier\n",
        "from sklearn.naive_bayes import GaussianNB\n",
        "from sklearn.neighbors import KNeighborsRegressor, KNeighborsClassifier\n",
        "from sklearn.ensemble import RandomForestClassifier\n",
        "from sklearn.cluster import AgglomerativeClustering, KMeans, DBSCAN\n",
        "from matplotlib import pyplot as plt"
      ],
      "execution_count": 16,
      "outputs": []
    },
    {
      "cell_type": "code",
      "metadata": {
        "colab": {
          "base_uri": "https://localhost:8080/"
        },
        "id": "2hi0P7r4Uudm",
        "outputId": "31254c5c-2b48-4144-e184-c3fb4dadfc12"
      },
      "source": [
        "#1\n",
        "name = input()\n",
        "id = input()\n",
        "sum = 0\n",
        "\n",
        "for i in id:\n",
        "  sum += int(i)\n",
        "\n",
        "print(\"Name : \", name)\n",
        "print(\"Student ID : \", id)\n",
        "print(\"Sum : \", sum)\n",
        "print(\"Sum%5 : \", sum%5)"
      ],
      "execution_count": 17,
      "outputs": [
        {
          "output_type": "stream",
          "text": [
            "Siraprapa Padsa\n",
            "61050290\n",
            "Name :  Siraprapa Padsa\n",
            "Student ID :  61050290\n",
            "Sum :  23\n",
            "Sum%5 :  3\n"
          ],
          "name": "stdout"
        }
      ]
    },
    {
      "cell_type": "code",
      "metadata": {
        "colab": {
          "base_uri": "https://localhost:8080/"
        },
        "id": "TV4b32PKd7Mk",
        "outputId": "a893ac03-ccb6-4cc8-fe12-369842620d60"
      },
      "source": [
        "#2\n",
        "arr = np.random.rand(sum,2)\n",
        "arr *= 100\n",
        "arr //= 1\n",
        "arr"
      ],
      "execution_count": 18,
      "outputs": [
        {
          "output_type": "execute_result",
          "data": {
            "text/plain": [
              "array([[37., 54.],\n",
              "       [17., 72.],\n",
              "       [92., 98.],\n",
              "       [74., 18.],\n",
              "       [48., 70.],\n",
              "       [21., 12.],\n",
              "       [71., 67.],\n",
              "       [88., 85.],\n",
              "       [61., 27.],\n",
              "       [18., 45.],\n",
              "       [11., 11.],\n",
              "       [56., 46.],\n",
              "       [16.,  9.],\n",
              "       [36., 59.],\n",
              "       [22., 23.],\n",
              "       [12.,  1.],\n",
              "       [92., 25.],\n",
              "       [54., 36.],\n",
              "       [60., 67.],\n",
              "       [21., 41.],\n",
              "       [ 9., 69.],\n",
              "       [38., 95.],\n",
              "       [ 7., 58.]])"
            ]
          },
          "metadata": {
            "tags": []
          },
          "execution_count": 18
        }
      ]
    },
    {
      "cell_type": "code",
      "metadata": {
        "id": "Q4QOwqjtl27i"
      },
      "source": [
        "#3\n",
        "label = [\"x\", \"y\"]\n",
        "df_1 = pd.DataFrame(arr, columns = label)\n",
        "df_1.to_csv(\"61050290.csv\", index = False)"
      ],
      "execution_count": 19,
      "outputs": []
    },
    {
      "cell_type": "code",
      "metadata": {
        "colab": {
          "base_uri": "https://localhost:8080/",
          "height": 359
        },
        "id": "3nt_whi4oDBL",
        "outputId": "03c73b5f-ce04-4fb6-b68c-3fcf5b8baf3f"
      },
      "source": [
        "#4\n",
        "df_2 = pd.read_excel(\"./Classification_Data.xlsx\", \"Fever\")\n",
        "df_2"
      ],
      "execution_count": 20,
      "outputs": [
        {
          "output_type": "execute_result",
          "data": {
            "text/html": [
              "<div>\n",
              "<style scoped>\n",
              "    .dataframe tbody tr th:only-of-type {\n",
              "        vertical-align: middle;\n",
              "    }\n",
              "\n",
              "    .dataframe tbody tr th {\n",
              "        vertical-align: top;\n",
              "    }\n",
              "\n",
              "    .dataframe thead th {\n",
              "        text-align: right;\n",
              "    }\n",
              "</style>\n",
              "<table border=\"1\" class=\"dataframe\">\n",
              "  <thead>\n",
              "    <tr style=\"text-align: right;\">\n",
              "      <th></th>\n",
              "      <th>Body Temperature (C)</th>\n",
              "      <th>Cough</th>\n",
              "      <th>Runny Nose</th>\n",
              "      <th>Disease</th>\n",
              "    </tr>\n",
              "  </thead>\n",
              "  <tbody>\n",
              "    <tr>\n",
              "      <th>0</th>\n",
              "      <td>36.5</td>\n",
              "      <td>No</td>\n",
              "      <td>No</td>\n",
              "      <td>Normal</td>\n",
              "    </tr>\n",
              "    <tr>\n",
              "      <th>1</th>\n",
              "      <td>37.0</td>\n",
              "      <td>No</td>\n",
              "      <td>No</td>\n",
              "      <td>Normal</td>\n",
              "    </tr>\n",
              "    <tr>\n",
              "      <th>2</th>\n",
              "      <td>36.5</td>\n",
              "      <td>Yes</td>\n",
              "      <td>No</td>\n",
              "      <td>Normal</td>\n",
              "    </tr>\n",
              "    <tr>\n",
              "      <th>3</th>\n",
              "      <td>39.0</td>\n",
              "      <td>No</td>\n",
              "      <td>No</td>\n",
              "      <td>Dengue Fever</td>\n",
              "    </tr>\n",
              "    <tr>\n",
              "      <th>4</th>\n",
              "      <td>38.0</td>\n",
              "      <td>Yes</td>\n",
              "      <td>Yes</td>\n",
              "      <td>Cold</td>\n",
              "    </tr>\n",
              "    <tr>\n",
              "      <th>5</th>\n",
              "      <td>37.0</td>\n",
              "      <td>No</td>\n",
              "      <td>Yes</td>\n",
              "      <td>Cold</td>\n",
              "    </tr>\n",
              "    <tr>\n",
              "      <th>6</th>\n",
              "      <td>36.5</td>\n",
              "      <td>Yes</td>\n",
              "      <td>Yes</td>\n",
              "      <td>Cold</td>\n",
              "    </tr>\n",
              "    <tr>\n",
              "      <th>7</th>\n",
              "      <td>39.0</td>\n",
              "      <td>Yes</td>\n",
              "      <td>No</td>\n",
              "      <td>Dengue Fever</td>\n",
              "    </tr>\n",
              "    <tr>\n",
              "      <th>8</th>\n",
              "      <td>38.0</td>\n",
              "      <td>No</td>\n",
              "      <td>No</td>\n",
              "      <td>Dengue Fever</td>\n",
              "    </tr>\n",
              "    <tr>\n",
              "      <th>9</th>\n",
              "      <td>37.5</td>\n",
              "      <td>No</td>\n",
              "      <td>No</td>\n",
              "      <td>Cold</td>\n",
              "    </tr>\n",
              "  </tbody>\n",
              "</table>\n",
              "</div>"
            ],
            "text/plain": [
              "   Body Temperature (C) Cough Runny Nose       Disease\n",
              "0                  36.5    No         No        Normal\n",
              "1                  37.0    No         No        Normal\n",
              "2                  36.5   Yes         No        Normal\n",
              "3                  39.0    No         No  Dengue Fever\n",
              "4                  38.0   Yes        Yes          Cold\n",
              "5                  37.0    No        Yes          Cold\n",
              "6                  36.5   Yes        Yes          Cold\n",
              "7                  39.0   Yes         No  Dengue Fever\n",
              "8                  38.0    No         No  Dengue Fever\n",
              "9                  37.5    No         No          Cold"
            ]
          },
          "metadata": {
            "tags": []
          },
          "execution_count": 20
        }
      ]
    },
    {
      "cell_type": "code",
      "metadata": {
        "colab": {
          "base_uri": "https://localhost:8080/",
          "height": 282
        },
        "id": "p76ih-Osq0nw",
        "outputId": "7e5f250e-9c1f-4689-9ca4-fc02b50a4318"
      },
      "source": [
        "#5\n",
        "df_3 = pd.read_csv(\"./61050290.csv\")\n",
        "df_3 = df_3.to_numpy()\n",
        "df_x = df_3[ : ,  :1]\n",
        "df_y = df_3[ : , 1: ]\n",
        "plt.scatter(df_x, df_y)\n",
        "plt.show"
      ],
      "execution_count": 21,
      "outputs": [
        {
          "output_type": "execute_result",
          "data": {
            "text/plain": [
              "<function matplotlib.pyplot.show>"
            ]
          },
          "metadata": {
            "tags": []
          },
          "execution_count": 21
        },
        {
          "output_type": "display_data",
          "data": {
            "image/png": "[encoded data removed]",
            "text/plain": [
              "<Figure size 432x288 with 1 Axes>"
            ]
          },
          "metadata": {
            "tags": [],
            "needs_background": "light"
          }
        }
      ]
    },
    {
      "cell_type": "code",
      "metadata": {
        "colab": {
          "base_uri": "https://localhost:8080/",
          "height": 1000
        },
        "id": "D3znFacZxKml",
        "outputId": "3c56b97d-95ac-4613-e953-6828626e1df0"
      },
      "source": [
        "#6\n",
        "#Bar Chart\n",
        "data1 = [\"Sunny\", \"Windy\", \"Rainny\"]\n",
        "height1 = [3, 4, 3]\n",
        "data2 = [\"Less than 5\", \"5 to 10\", \"More than 10\", \"More than 11\"]\n",
        "height2 = [4, 3, 2, 1]\n",
        "data3 = [\"Outdoor\", \"Indoor\"]\n",
        "height3 = [6, 4]\n",
        "data4 = [\"Football\", \"Basketball\", \"Batminton\"]\n",
        "height4 = [4, 2, 4]\n",
        "\n",
        "plt.figure(0)\n",
        "plt.title(\"Weather\")\n",
        "plt.bar(data1,height1, color='b')\n",
        "\n",
        "plt.figure(1)\n",
        "plt.title(\"Player\")\n",
        "plt.bar(data2, height2, color='m')\n",
        "\n",
        "plt.figure(2)\n",
        "plt.title(\"Stadium\")\n",
        "plt.bar(data3, height3, color='r')\n",
        "\n",
        "plt.figure(3)\n",
        "plt.title(\"Sport\")\n",
        "plt.bar(data4, height4)\n",
        "\n",
        "plt.show"
      ],
      "execution_count": 22,
      "outputs": [
        {
          "output_type": "execute_result",
          "data": {
            "text/plain": [
              "<function matplotlib.pyplot.show>"
            ]
          },
          "metadata": {
            "tags": []
          },
          "execution_count": 22
        },
        {
          "output_type": "display_data",
          "data": {
            "image/png": "[encoded data removed]",
            "text/plain": [
              "<Figure size 432x288 with 1 Axes>"
            ]
          },
          "metadata": {
            "tags": [],
            "needs_background": "light"
          }
        },
        {
          "output_type": "display_data",
          "data": {
            "image/png": "[encoded data removed]",
            "text/plain": [
              "<Figure size 432x288 with 1 Axes>"
            ]
          },
          "metadata": {
            "tags": [],
            "needs_background": "light"
          }
        },
        {
          "output_type": "display_data",
          "data": {
            "image/png": "[encoded data removed]",
            "text/plain": [
              "<Figure size 432x288 with 1 Axes>"
            ]
          },
          "metadata": {
            "tags": [],
            "needs_background": "light"
          }
        },
        {
          "output_type": "display_data",
          "data": {
            "image/png": "[encoded data removed]",
            "text/plain": [
              "<Figure size 432x288 with 1 Axes>"
            ]
          },
          "metadata": {
            "tags": [],
            "needs_background": "light"
          }
        }
      ]
    },
    {
      "cell_type": "code",
      "metadata": {
        "colab": {
          "base_uri": "https://localhost:8080/",
          "height": 282
        },
        "id": "WamaS4IF17BO",
        "outputId": "b10f67a9-5f8f-4d0b-8e57-cf1adafcf613"
      },
      "source": [
        "#7\n",
        "plt.plot(df_x, df_y, color = 'g', marker = \"*\")\n",
        "plt.show"
      ],
      "execution_count": 23,
      "outputs": [
        {
          "output_type": "execute_result",
          "data": {
            "text/plain": [
              "<function matplotlib.pyplot.show>"
            ]
          },
          "metadata": {
            "tags": []
          },
          "execution_count": 23
        },
        {
          "output_type": "display_data",
          "data": {
            "image/png": "[encoded data removed]",
            "text/plain": [
              "<Figure size 432x288 with 1 Axes>"
            ]
          },
          "metadata": {
            "tags": [],
            "needs_background": "light"
          }
        }
      ]
    },
    {
      "cell_type": "code",
      "metadata": {
        "colab": {
          "base_uri": "https://localhost:8080/"
        },
        "id": "0YQwFM6WOQ6n",
        "outputId": "c8a1f873-bea5-4ed6-c698-f9e3da7f149c"
      },
      "source": [
        "#8\n",
        "x = df_x\n",
        "y = df_y\n",
        "a = 0\n",
        "for i in id[ :4]:\n",
        "  a += int(i)\n",
        "\n",
        "b = 0\n",
        "for i in id[5: ]:\n",
        "  b += int(i)\n",
        "\n",
        "#Decision Tree Regression\n",
        "dtr = DecisionTreeRegressor(criterion = 'mae')\n",
        "dtr.fit(x, y)\n",
        "dtr.predict([[a]])\n",
        "dtr.predict([[b]])\n",
        "print(\"R2 = \", dtr.score(x, y))"
      ],
      "execution_count": 24,
      "outputs": [
        {
          "output_type": "stream",
          "text": [
            "R2 =  0.8251418235227436\n"
          ],
          "name": "stdout"
        }
      ]
    },
    {
      "cell_type": "code",
      "metadata": {
        "colab": {
          "base_uri": "https://localhost:8080/"
        },
        "id": "CHdp4On5ZoSe",
        "outputId": "b48de3e4-767f-4582-992d-e5550eb96fcc"
      },
      "source": [
        "#9\n",
        "df_4 = df_2\n",
        "#Replace Temperature with numbers from 0-4 in Body Temperature (C) columbs\n",
        "rename_dict={36.5 : 0, 37.0 : 1, 37.5 : 2, 38.0 : 3, 39.0 : 4}\n",
        "df_4['Body Temperature (C)'].replace(rename_dict, inplace=True)\n",
        "#Yes = 1, No = 0\n",
        "rename_dict={\"Yes\" : 1, \"No\" : 0}\n",
        "df_4['Cough'].replace(rename_dict, inplace=True)\n",
        "df_4['Runny Nose'].replace(rename_dict, inplace=True)\n",
        "#Normal = 0, Cold = 1, Dengue Fever = 2\n",
        "rename_dict={\"Normal\" : 0, \"Cold\" : 1, \"Dengue Fever\" : 2}\n",
        "df_4['Disease'].replace(rename_dict, inplace=True)\n",
        "prob = [1, 1, 0]\n",
        "\n",
        "df_4.to_numpy()\n",
        "x = df_4.iloc[ : , :3]\n",
        "y = df_4.iloc[ : ,3: ]\n",
        "\n",
        "#Random Forest Classification (criterion = “gini”)\n",
        "rfc = RandomForestClassifier(criterion = 'gini')\n",
        "rfc.fit(x, y)\n",
        "rfc.predict([[2, 2, 2]])\n",
        "print(rfc.predict_proba([prob]))"
      ],
      "execution_count": 25,
      "outputs": [
        {
          "output_type": "stream",
          "text": [
            "/usr/local/lib/python3.7/dist-packages/ipykernel_launcher.py:21: DataConversionWarning: A column-vector y was passed when a 1d array was expected. Please change the shape of y to (n_samples,), for example using ravel().\n"
          ],
          "name": "stderr"
        },
        {
          "output_type": "stream",
          "text": [
            "[[0.78 0.16 0.06]]\n"
          ],
          "name": "stdout"
        }
      ]
    },
    {
      "cell_type": "code",
      "metadata": {
        "colab": {
          "base_uri": "https://localhost:8080/"
        },
        "id": "GTRooE2Qthbe",
        "outputId": "b7db8e77-e394-4edb-f0bf-37bc85b4d364"
      },
      "source": [
        "#10\n",
        "x = df_3\n",
        "#KMean Clustering - Cluster = 4\n",
        "kmc = KMeans(n_clusters = 4)\n",
        "kmc.fit(x)\n",
        "kmc.labels_\n",
        "print(kmc.predict([[a, b]]))"
      ],
      "execution_count": 26,
      "outputs": [
        {
          "output_type": "stream",
          "text": [
            "[2]\n"
          ],
          "name": "stdout"
        }
      ]
    }
  ]
}